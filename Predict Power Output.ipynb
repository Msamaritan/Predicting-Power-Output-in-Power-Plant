{
 "cells": [
  {
   "cell_type": "markdown",
   "metadata": {},
   "source": [
    "# Predicting the Output Electrical Power of Combined Cycle Power Plant              with the help of 6 Years(2006-2011) data of the plant.\n",
    "## Authour : Byri Manoj S"
   ]
  },
  {
   "cell_type": "markdown",
   "metadata": {},
   "source": [
    "## Importing revelent packages"
   ]
  },
  {
   "cell_type": "code",
   "execution_count": 1,
   "metadata": {},
   "outputs": [],
   "source": [
    "import tensorflow as tf\n",
    "import pandas as pd\n",
    "import numpy as np\n",
    "import matplotlib.pyplot as plt"
   ]
  },
  {
   "cell_type": "markdown",
   "metadata": {},
   "source": [
    "## Importing Datasets"
   ]
  },
  {
   "cell_type": "code",
   "execution_count": 2,
   "metadata": {},
   "outputs": [
    {
     "data": {
      "text/html": [
       "<div>\n",
       "<style scoped>\n",
       "    .dataframe tbody tr th:only-of-type {\n",
       "        vertical-align: middle;\n",
       "    }\n",
       "\n",
       "    .dataframe tbody tr th {\n",
       "        vertical-align: top;\n",
       "    }\n",
       "\n",
       "    .dataframe thead th {\n",
       "        text-align: right;\n",
       "    }\n",
       "</style>\n",
       "<table border=\"1\" class=\"dataframe\">\n",
       "  <thead>\n",
       "    <tr style=\"text-align: right;\">\n",
       "      <th></th>\n",
       "      <th>AT</th>\n",
       "      <th>V</th>\n",
       "      <th>AP</th>\n",
       "      <th>RH</th>\n",
       "      <th>PE</th>\n",
       "    </tr>\n",
       "  </thead>\n",
       "  <tbody>\n",
       "    <tr>\n",
       "      <th>0</th>\n",
       "      <td>14.96</td>\n",
       "      <td>41.76</td>\n",
       "      <td>1024.07</td>\n",
       "      <td>73.17</td>\n",
       "      <td>463.26</td>\n",
       "    </tr>\n",
       "    <tr>\n",
       "      <th>1</th>\n",
       "      <td>25.18</td>\n",
       "      <td>62.96</td>\n",
       "      <td>1020.04</td>\n",
       "      <td>59.08</td>\n",
       "      <td>444.37</td>\n",
       "    </tr>\n",
       "    <tr>\n",
       "      <th>2</th>\n",
       "      <td>5.11</td>\n",
       "      <td>39.40</td>\n",
       "      <td>1012.16</td>\n",
       "      <td>92.14</td>\n",
       "      <td>488.56</td>\n",
       "    </tr>\n",
       "    <tr>\n",
       "      <th>3</th>\n",
       "      <td>20.86</td>\n",
       "      <td>57.32</td>\n",
       "      <td>1010.24</td>\n",
       "      <td>76.64</td>\n",
       "      <td>446.48</td>\n",
       "    </tr>\n",
       "    <tr>\n",
       "      <th>4</th>\n",
       "      <td>10.82</td>\n",
       "      <td>37.50</td>\n",
       "      <td>1009.23</td>\n",
       "      <td>96.62</td>\n",
       "      <td>473.90</td>\n",
       "    </tr>\n",
       "  </tbody>\n",
       "</table>\n",
       "</div>"
      ],
      "text/plain": [
       "      AT      V       AP     RH      PE\n",
       "0  14.96  41.76  1024.07  73.17  463.26\n",
       "1  25.18  62.96  1020.04  59.08  444.37\n",
       "2   5.11  39.40  1012.16  92.14  488.56\n",
       "3  20.86  57.32  1010.24  76.64  446.48\n",
       "4  10.82  37.50  1009.23  96.62  473.90"
      ]
     },
     "execution_count": 2,
     "metadata": {},
     "output_type": "execute_result"
    }
   ],
   "source": [
    "raw_data = pd.read_excel('Combined Cycle Power Plant Dataset.xlsx')\n",
    "data = raw_data.copy()\n",
    "data.head()"
   ]
  },
  {
   "cell_type": "markdown",
   "metadata": {},
   "source": [
    "## Data Preprocessing"
   ]
  },
  {
   "cell_type": "code",
   "execution_count": 3,
   "metadata": {},
   "outputs": [
    {
     "data": {
      "text/html": [
       "<div>\n",
       "<style scoped>\n",
       "    .dataframe tbody tr th:only-of-type {\n",
       "        vertical-align: middle;\n",
       "    }\n",
       "\n",
       "    .dataframe tbody tr th {\n",
       "        vertical-align: top;\n",
       "    }\n",
       "\n",
       "    .dataframe thead th {\n",
       "        text-align: right;\n",
       "    }\n",
       "</style>\n",
       "<table border=\"1\" class=\"dataframe\">\n",
       "  <thead>\n",
       "    <tr style=\"text-align: right;\">\n",
       "      <th></th>\n",
       "      <th>Temp</th>\n",
       "      <th>Exhaust_Vaccum</th>\n",
       "      <th>Pressure</th>\n",
       "      <th>Humidity</th>\n",
       "      <th>Power_Output</th>\n",
       "    </tr>\n",
       "  </thead>\n",
       "  <tbody>\n",
       "    <tr>\n",
       "      <th>0</th>\n",
       "      <td>14.96</td>\n",
       "      <td>41.76</td>\n",
       "      <td>1024.07</td>\n",
       "      <td>73.17</td>\n",
       "      <td>463.26</td>\n",
       "    </tr>\n",
       "    <tr>\n",
       "      <th>1</th>\n",
       "      <td>25.18</td>\n",
       "      <td>62.96</td>\n",
       "      <td>1020.04</td>\n",
       "      <td>59.08</td>\n",
       "      <td>444.37</td>\n",
       "    </tr>\n",
       "    <tr>\n",
       "      <th>2</th>\n",
       "      <td>5.11</td>\n",
       "      <td>39.40</td>\n",
       "      <td>1012.16</td>\n",
       "      <td>92.14</td>\n",
       "      <td>488.56</td>\n",
       "    </tr>\n",
       "    <tr>\n",
       "      <th>3</th>\n",
       "      <td>20.86</td>\n",
       "      <td>57.32</td>\n",
       "      <td>1010.24</td>\n",
       "      <td>76.64</td>\n",
       "      <td>446.48</td>\n",
       "    </tr>\n",
       "    <tr>\n",
       "      <th>4</th>\n",
       "      <td>10.82</td>\n",
       "      <td>37.50</td>\n",
       "      <td>1009.23</td>\n",
       "      <td>96.62</td>\n",
       "      <td>473.90</td>\n",
       "    </tr>\n",
       "    <tr>\n",
       "      <th>...</th>\n",
       "      <td>...</td>\n",
       "      <td>...</td>\n",
       "      <td>...</td>\n",
       "      <td>...</td>\n",
       "      <td>...</td>\n",
       "    </tr>\n",
       "    <tr>\n",
       "      <th>9563</th>\n",
       "      <td>16.65</td>\n",
       "      <td>49.69</td>\n",
       "      <td>1014.01</td>\n",
       "      <td>91.00</td>\n",
       "      <td>460.03</td>\n",
       "    </tr>\n",
       "    <tr>\n",
       "      <th>9564</th>\n",
       "      <td>13.19</td>\n",
       "      <td>39.18</td>\n",
       "      <td>1023.67</td>\n",
       "      <td>66.78</td>\n",
       "      <td>469.62</td>\n",
       "    </tr>\n",
       "    <tr>\n",
       "      <th>9565</th>\n",
       "      <td>31.32</td>\n",
       "      <td>74.33</td>\n",
       "      <td>1012.92</td>\n",
       "      <td>36.48</td>\n",
       "      <td>429.57</td>\n",
       "    </tr>\n",
       "    <tr>\n",
       "      <th>9566</th>\n",
       "      <td>24.48</td>\n",
       "      <td>69.45</td>\n",
       "      <td>1013.86</td>\n",
       "      <td>62.39</td>\n",
       "      <td>435.74</td>\n",
       "    </tr>\n",
       "    <tr>\n",
       "      <th>9567</th>\n",
       "      <td>21.60</td>\n",
       "      <td>62.52</td>\n",
       "      <td>1017.23</td>\n",
       "      <td>67.87</td>\n",
       "      <td>453.28</td>\n",
       "    </tr>\n",
       "  </tbody>\n",
       "</table>\n",
       "<p>9568 rows × 5 columns</p>\n",
       "</div>"
      ],
      "text/plain": [
       "       Temp  Exhaust_Vaccum  Pressure  Humidity  Power_Output\n",
       "0     14.96           41.76   1024.07     73.17        463.26\n",
       "1     25.18           62.96   1020.04     59.08        444.37\n",
       "2      5.11           39.40   1012.16     92.14        488.56\n",
       "3     20.86           57.32   1010.24     76.64        446.48\n",
       "4     10.82           37.50   1009.23     96.62        473.90\n",
       "...     ...             ...       ...       ...           ...\n",
       "9563  16.65           49.69   1014.01     91.00        460.03\n",
       "9564  13.19           39.18   1023.67     66.78        469.62\n",
       "9565  31.32           74.33   1012.92     36.48        429.57\n",
       "9566  24.48           69.45   1013.86     62.39        435.74\n",
       "9567  21.60           62.52   1017.23     67.87        453.28\n",
       "\n",
       "[9568 rows x 5 columns]"
      ]
     },
     "execution_count": 3,
     "metadata": {},
     "output_type": "execute_result"
    }
   ],
   "source": [
    "data.rename(columns={'AT':'Temp', 'V':'Exhaust_Vaccum', 'AP':'Pressure', 'RH':'Humidity', 'PE':'Power_Output'})"
   ]
  },
  {
   "cell_type": "code",
   "execution_count": 4,
   "metadata": {},
   "outputs": [
    {
     "data": {
      "text/plain": [
       "(9568, 5)"
      ]
     },
     "execution_count": 4,
     "metadata": {},
     "output_type": "execute_result"
    }
   ],
   "source": [
    "data.shape"
   ]
  },
  {
   "cell_type": "code",
   "execution_count": 5,
   "metadata": {},
   "outputs": [],
   "source": [
    "x = data.iloc[:,:-1].values\n",
    "y = data.iloc[:, -1].values"
   ]
  },
  {
   "cell_type": "code",
   "execution_count": 6,
   "metadata": {},
   "outputs": [],
   "source": [
    "from sklearn.model_selection import train_test_split as tts\n",
    "x_train, x_test, y_train, y_test = tts(x, y, random_state = 143, test_size=0.2)"
   ]
  },
  {
   "cell_type": "markdown",
   "metadata": {},
   "source": [
    "## Feature Scaling"
   ]
  },
  {
   "cell_type": "code",
   "execution_count": 7,
   "metadata": {},
   "outputs": [],
   "source": [
    "from sklearn.preprocessing import StandardScaler\n",
    "ss = StandardScaler()\n",
    "x_train = ss.fit_transform(x_train)\n",
    "x_test = ss.transform(x_test)"
   ]
  },
  {
   "cell_type": "markdown",
   "metadata": {},
   "source": [
    "## Buliding the Neural Network"
   ]
  },
  {
   "cell_type": "code",
   "execution_count": 8,
   "metadata": {},
   "outputs": [],
   "source": [
    "ann_r = tf.keras.models.Sequential()"
   ]
  },
  {
   "cell_type": "code",
   "execution_count": 9,
   "metadata": {},
   "outputs": [],
   "source": [
    "ann_r.add(tf.keras.layers.Dense(units=50, activation = 'relu'))\n",
    "ann_r.add(tf.keras.layers.Dense(units=50, activation = 'relu'))\n",
    "ann_r.add(tf.keras.layers.Dense(units=50, activation = 'relu'))\n",
    "ann_r.add(tf.keras.layers.Dense(units=1))"
   ]
  },
  {
   "cell_type": "code",
   "execution_count": 10,
   "metadata": {},
   "outputs": [],
   "source": [
    "ann_r.compile(optimizer='adam', loss='MeanSquaredError')"
   ]
  },
  {
   "cell_type": "code",
   "execution_count": 11,
   "metadata": {
    "scrolled": true
   },
   "outputs": [
    {
     "name": "stdout",
     "output_type": "stream",
     "text": [
      "Epoch 1/100\n",
      "240/240 [==============================] - 0s 369us/step - loss: 91697.4453\n",
      "Epoch 2/100\n",
      "240/240 [==============================] - 0s 354us/step - loss: 4812.5444\n",
      "Epoch 3/100\n",
      "240/240 [==============================] - 0s 357us/step - loss: 1527.8562\n",
      "Epoch 4/100\n",
      "240/240 [==============================] - 0s 357us/step - loss: 559.0094\n",
      "Epoch 5/100\n",
      "240/240 [==============================] - 0s 356us/step - loss: 246.1214\n",
      "Epoch 6/100\n",
      "240/240 [==============================] - 0s 351us/step - loss: 130.8932\n",
      "Epoch 7/100\n",
      "240/240 [==============================] - 0s 360us/step - loss: 80.2058\n",
      "Epoch 8/100\n",
      "240/240 [==============================] - 0s 356us/step - loss: 53.9722\n",
      "Epoch 9/100\n",
      "240/240 [==============================] - 0s 352us/step - loss: 40.7816\n",
      "Epoch 10/100\n",
      "240/240 [==============================] - 0s 355us/step - loss: 33.0637\n",
      "Epoch 11/100\n",
      "240/240 [==============================] - 0s 363us/step - loss: 28.1760\n",
      "Epoch 12/100\n",
      "240/240 [==============================] - 0s 350us/step - loss: 25.5537\n",
      "Epoch 13/100\n",
      "240/240 [==============================] - 0s 354us/step - loss: 23.9215\n",
      "Epoch 14/100\n",
      "240/240 [==============================] - 0s 350us/step - loss: 22.7011\n",
      "Epoch 15/100\n",
      "240/240 [==============================] - 0s 351us/step - loss: 22.0713\n",
      "Epoch 16/100\n",
      "240/240 [==============================] - 0s 354us/step - loss: 21.4233\n",
      "Epoch 17/100\n",
      "240/240 [==============================] - 0s 354us/step - loss: 21.5838\n",
      "Epoch 18/100\n",
      "240/240 [==============================] - 0s 349us/step - loss: 21.0299\n",
      "Epoch 19/100\n",
      "240/240 [==============================] - 0s 350us/step - loss: 20.8457\n",
      "Epoch 20/100\n",
      "240/240 [==============================] - 0s 350us/step - loss: 20.5045\n",
      "Epoch 21/100\n",
      "240/240 [==============================] - 0s 354us/step - loss: 20.6616\n",
      "Epoch 22/100\n",
      "240/240 [==============================] - 0s 347us/step - loss: 20.3998\n",
      "Epoch 23/100\n",
      "240/240 [==============================] - 0s 350us/step - loss: 21.3609\n",
      "Epoch 24/100\n",
      "240/240 [==============================] - 0s 358us/step - loss: 20.9603\n",
      "Epoch 25/100\n",
      "240/240 [==============================] - 0s 356us/step - loss: 21.0908\n",
      "Epoch 26/100\n",
      "240/240 [==============================] - 0s 356us/step - loss: 20.0337\n",
      "Epoch 27/100\n",
      "240/240 [==============================] - 0s 351us/step - loss: 21.2876\n",
      "Epoch 28/100\n",
      "240/240 [==============================] - 0s 353us/step - loss: 20.2799\n",
      "Epoch 29/100\n",
      "240/240 [==============================] - 0s 350us/step - loss: 20.5004\n",
      "Epoch 30/100\n",
      "240/240 [==============================] - 0s 352us/step - loss: 20.1050\n",
      "Epoch 31/100\n",
      "240/240 [==============================] - 0s 368us/step - loss: 20.4617\n",
      "Epoch 32/100\n",
      "240/240 [==============================] - 0s 353us/step - loss: 20.7220\n",
      "Epoch 33/100\n",
      "240/240 [==============================] - 0s 351us/step - loss: 20.4853\n",
      "Epoch 34/100\n",
      "240/240 [==============================] - 0s 350us/step - loss: 19.9977\n",
      "Epoch 35/100\n",
      "240/240 [==============================] - 0s 354us/step - loss: 21.2687\n",
      "Epoch 36/100\n",
      "240/240 [==============================] - 0s 355us/step - loss: 21.0451\n",
      "Epoch 37/100\n",
      "240/240 [==============================] - 0s 348us/step - loss: 20.5599\n",
      "Epoch 38/100\n",
      "240/240 [==============================] - 0s 351us/step - loss: 20.0224\n",
      "Epoch 39/100\n",
      "240/240 [==============================] - 0s 351us/step - loss: 21.5446\n",
      "Epoch 40/100\n",
      "240/240 [==============================] - 0s 352us/step - loss: 19.5881\n",
      "Epoch 41/100\n",
      "240/240 [==============================] - 0s 350us/step - loss: 19.8843\n",
      "Epoch 42/100\n",
      "240/240 [==============================] - 0s 351us/step - loss: 20.9719\n",
      "Epoch 43/100\n",
      "240/240 [==============================] - 0s 353us/step - loss: 19.8465\n",
      "Epoch 44/100\n",
      "240/240 [==============================] - 0s 349us/step - loss: 19.0416\n",
      "Epoch 45/100\n",
      "240/240 [==============================] - 0s 354us/step - loss: 19.5385\n",
      "Epoch 46/100\n",
      "240/240 [==============================] - 0s 350us/step - loss: 19.5300\n",
      "Epoch 47/100\n",
      "240/240 [==============================] - 0s 351us/step - loss: 21.1022\n",
      "Epoch 48/100\n",
      "240/240 [==============================] - 0s 351us/step - loss: 19.7883\n",
      "Epoch 49/100\n",
      "240/240 [==============================] - 0s 350us/step - loss: 19.6695\n",
      "Epoch 50/100\n",
      "240/240 [==============================] - 0s 349us/step - loss: 20.5300\n",
      "Epoch 51/100\n",
      "240/240 [==============================] - 0s 353us/step - loss: 20.1973\n",
      "Epoch 52/100\n",
      "240/240 [==============================] - 0s 352us/step - loss: 19.6647\n",
      "Epoch 53/100\n",
      "240/240 [==============================] - 0s 353us/step - loss: 19.5263\n",
      "Epoch 54/100\n",
      "240/240 [==============================] - 0s 350us/step - loss: 19.4907\n",
      "Epoch 55/100\n",
      "240/240 [==============================] - 0s 351us/step - loss: 21.1483\n",
      "Epoch 56/100\n",
      "240/240 [==============================] - 0s 349us/step - loss: 19.5917\n",
      "Epoch 57/100\n",
      "240/240 [==============================] - 0s 360us/step - loss: 18.9565\n",
      "Epoch 58/100\n",
      "240/240 [==============================] - 0s 350us/step - loss: 20.3922\n",
      "Epoch 59/100\n",
      "240/240 [==============================] - 0s 354us/step - loss: 18.6304\n",
      "Epoch 60/100\n",
      "240/240 [==============================] - 0s 350us/step - loss: 18.9414\n",
      "Epoch 61/100\n",
      "240/240 [==============================] - 0s 350us/step - loss: 19.8591\n",
      "Epoch 62/100\n",
      "240/240 [==============================] - 0s 353us/step - loss: 19.9772\n",
      "Epoch 63/100\n",
      "240/240 [==============================] - 0s 350us/step - loss: 19.8284\n",
      "Epoch 64/100\n",
      "240/240 [==============================] - 0s 355us/step - loss: 19.8961\n",
      "Epoch 65/100\n",
      "240/240 [==============================] - 0s 351us/step - loss: 19.1897\n",
      "Epoch 66/100\n",
      "240/240 [==============================] - 0s 353us/step - loss: 19.9177\n",
      "Epoch 67/100\n",
      "240/240 [==============================] - 0s 358us/step - loss: 20.0164\n",
      "Epoch 68/100\n",
      "240/240 [==============================] - 0s 351us/step - loss: 19.2166\n",
      "Epoch 69/100\n",
      "240/240 [==============================] - 0s 355us/step - loss: 19.3220\n",
      "Epoch 70/100\n",
      "240/240 [==============================] - 0s 350us/step - loss: 19.4971\n",
      "Epoch 71/100\n",
      "240/240 [==============================] - 0s 352us/step - loss: 18.8856\n",
      "Epoch 72/100\n",
      "240/240 [==============================] - 0s 353us/step - loss: 19.3264\n",
      "Epoch 73/100\n",
      "240/240 [==============================] - 0s 351us/step - loss: 20.6240\n",
      "Epoch 74/100\n",
      "240/240 [==============================] - 0s 352us/step - loss: 19.4585\n",
      "Epoch 75/100\n",
      "240/240 [==============================] - 0s 352us/step - loss: 19.8897\n",
      "Epoch 76/100\n",
      "240/240 [==============================] - 0s 354us/step - loss: 19.5867\n",
      "Epoch 77/100\n",
      "240/240 [==============================] - 0s 354us/step - loss: 20.3297\n",
      "Epoch 78/100\n",
      "240/240 [==============================] - 0s 350us/step - loss: 19.2511\n",
      "Epoch 79/100\n",
      "240/240 [==============================] - 0s 351us/step - loss: 18.8171\n",
      "Epoch 80/100\n",
      "240/240 [==============================] - 0s 366us/step - loss: 19.0615\n",
      "Epoch 81/100\n",
      "240/240 [==============================] - 0s 350us/step - loss: 18.7312\n",
      "Epoch 82/100\n",
      "240/240 [==============================] - 0s 352us/step - loss: 19.2503\n",
      "Epoch 83/100\n",
      "240/240 [==============================] - 0s 358us/step - loss: 20.1953\n",
      "Epoch 84/100\n",
      "240/240 [==============================] - 0s 352us/step - loss: 18.9717\n",
      "Epoch 85/100\n",
      "240/240 [==============================] - 0s 354us/step - loss: 19.6758\n",
      "Epoch 86/100\n",
      "240/240 [==============================] - 0s 354us/step - loss: 19.8402\n",
      "Epoch 87/100\n",
      "240/240 [==============================] - 0s 352us/step - loss: 19.6919\n",
      "Epoch 88/100\n",
      "240/240 [==============================] - 0s 353us/step - loss: 19.5914\n",
      "Epoch 89/100\n",
      "240/240 [==============================] - 0s 355us/step - loss: 20.0321\n",
      "Epoch 90/100\n",
      "240/240 [==============================] - 0s 354us/step - loss: 19.8115\n",
      "Epoch 91/100\n",
      "240/240 [==============================] - 0s 353us/step - loss: 19.8343\n",
      "Epoch 92/100\n",
      "240/240 [==============================] - 0s 353us/step - loss: 19.3279\n",
      "Epoch 93/100\n",
      "240/240 [==============================] - 0s 353us/step - loss: 20.6337\n",
      "Epoch 94/100\n",
      "240/240 [==============================] - 0s 355us/step - loss: 18.6099\n",
      "Epoch 95/100\n",
      "240/240 [==============================] - 0s 352us/step - loss: 19.3692\n",
      "Epoch 96/100\n"
     ]
    },
    {
     "name": "stdout",
     "output_type": "stream",
     "text": [
      "240/240 [==============================] - 0s 351us/step - loss: 19.5321\n",
      "Epoch 97/100\n",
      "240/240 [==============================] - 0s 355us/step - loss: 19.3577\n",
      "Epoch 98/100\n",
      "240/240 [==============================] - 0s 352us/step - loss: 18.7872\n",
      "Epoch 99/100\n",
      "240/240 [==============================] - 0s 349us/step - loss: 19.1387\n",
      "Epoch 100/100\n",
      "240/240 [==============================] - 0s 353us/step - loss: 19.6712\n"
     ]
    },
    {
     "data": {
      "text/plain": [
       "<tensorflow.python.keras.callbacks.History at 0x7fc7144d2730>"
      ]
     },
     "execution_count": 11,
     "metadata": {},
     "output_type": "execute_result"
    }
   ],
   "source": [
    "ann_r.fit(x_train, y_train, batch_size=32, epochs=100)"
   ]
  },
  {
   "cell_type": "code",
   "execution_count": 12,
   "metadata": {},
   "outputs": [
    {
     "name": "stdout",
     "output_type": "stream",
     "text": [
      "240/240 [==============================] - 0s 265us/step - loss: 18.3441\n"
     ]
    },
    {
     "data": {
      "text/plain": [
       "18.3441219329834"
      ]
     },
     "execution_count": 12,
     "metadata": {},
     "output_type": "execute_result"
    }
   ],
   "source": [
    "ann_r.evaluate(x_train, y_train)"
   ]
  },
  {
   "cell_type": "markdown",
   "metadata": {},
   "source": [
    "## Testing our network on unseen test dataset"
   ]
  },
  {
   "cell_type": "code",
   "execution_count": 13,
   "metadata": {},
   "outputs": [],
   "source": [
    "y_pred = ann_r.predict(x_test)"
   ]
  },
  {
   "cell_type": "markdown",
   "metadata": {},
   "source": [
    "### Comparing the predicted and actual outputs side-by-side"
   ]
  },
  {
   "cell_type": "code",
   "execution_count": 14,
   "metadata": {},
   "outputs": [],
   "source": [
    "Evaluate = pd.DataFrame(data = y_pred, columns=['Predicted_Values'])\n",
    "Evaluate['Targets'] = y_test"
   ]
  },
  {
   "cell_type": "code",
   "execution_count": 15,
   "metadata": {},
   "outputs": [
    {
     "data": {
      "text/html": [
       "<div>\n",
       "<style scoped>\n",
       "    .dataframe tbody tr th:only-of-type {\n",
       "        vertical-align: middle;\n",
       "    }\n",
       "\n",
       "    .dataframe tbody tr th {\n",
       "        vertical-align: top;\n",
       "    }\n",
       "\n",
       "    .dataframe thead th {\n",
       "        text-align: right;\n",
       "    }\n",
       "</style>\n",
       "<table border=\"1\" class=\"dataframe\">\n",
       "  <thead>\n",
       "    <tr style=\"text-align: right;\">\n",
       "      <th></th>\n",
       "      <th>Predicted_Values</th>\n",
       "      <th>Targets</th>\n",
       "    </tr>\n",
       "  </thead>\n",
       "  <tbody>\n",
       "    <tr>\n",
       "      <th>0</th>\n",
       "      <td>473.644318</td>\n",
       "      <td>470.85</td>\n",
       "    </tr>\n",
       "    <tr>\n",
       "      <th>1</th>\n",
       "      <td>477.024902</td>\n",
       "      <td>473.98</td>\n",
       "    </tr>\n",
       "    <tr>\n",
       "      <th>2</th>\n",
       "      <td>447.741058</td>\n",
       "      <td>452.21</td>\n",
       "    </tr>\n",
       "    <tr>\n",
       "      <th>3</th>\n",
       "      <td>469.122345</td>\n",
       "      <td>469.83</td>\n",
       "    </tr>\n",
       "    <tr>\n",
       "      <th>4</th>\n",
       "      <td>444.736023</td>\n",
       "      <td>444.89</td>\n",
       "    </tr>\n",
       "    <tr>\n",
       "      <th>...</th>\n",
       "      <td>...</td>\n",
       "      <td>...</td>\n",
       "    </tr>\n",
       "    <tr>\n",
       "      <th>1909</th>\n",
       "      <td>430.476471</td>\n",
       "      <td>432.98</td>\n",
       "    </tr>\n",
       "    <tr>\n",
       "      <th>1910</th>\n",
       "      <td>442.096191</td>\n",
       "      <td>440.78</td>\n",
       "    </tr>\n",
       "    <tr>\n",
       "      <th>1911</th>\n",
       "      <td>438.346893</td>\n",
       "      <td>439.77</td>\n",
       "    </tr>\n",
       "    <tr>\n",
       "      <th>1912</th>\n",
       "      <td>464.429321</td>\n",
       "      <td>462.21</td>\n",
       "    </tr>\n",
       "    <tr>\n",
       "      <th>1913</th>\n",
       "      <td>467.170105</td>\n",
       "      <td>464.62</td>\n",
       "    </tr>\n",
       "  </tbody>\n",
       "</table>\n",
       "<p>1914 rows × 2 columns</p>\n",
       "</div>"
      ],
      "text/plain": [
       "      Predicted_Values  Targets\n",
       "0           473.644318   470.85\n",
       "1           477.024902   473.98\n",
       "2           447.741058   452.21\n",
       "3           469.122345   469.83\n",
       "4           444.736023   444.89\n",
       "...                ...      ...\n",
       "1909        430.476471   432.98\n",
       "1910        442.096191   440.78\n",
       "1911        438.346893   439.77\n",
       "1912        464.429321   462.21\n",
       "1913        467.170105   464.62\n",
       "\n",
       "[1914 rows x 2 columns]"
      ]
     },
     "execution_count": 15,
     "metadata": {},
     "output_type": "execute_result"
    }
   ],
   "source": [
    "Evaluate"
   ]
  },
  {
   "cell_type": "code",
   "execution_count": 16,
   "metadata": {},
   "outputs": [],
   "source": [
    "from sklearn.metrics import *"
   ]
  },
  {
   "cell_type": "code",
   "execution_count": 17,
   "metadata": {},
   "outputs": [
    {
     "data": {
      "text/plain": [
       "0.9358715037712251"
      ]
     },
     "execution_count": 17,
     "metadata": {},
     "output_type": "execute_result"
    }
   ],
   "source": [
    "r2_score(y_pred, y_test)"
   ]
  },
  {
   "cell_type": "markdown",
   "metadata": {},
   "source": [
    "# Our Artifical Brain is 94% accurate on the unseen dataset"
   ]
  },
  {
   "cell_type": "code",
   "execution_count": null,
   "metadata": {},
   "outputs": [],
   "source": []
  }
 ],
 "metadata": {
  "kernelspec": {
   "display_name": "Python [conda env:devil]",
   "language": "python",
   "name": "conda-env-devil-py"
  },
  "language_info": {
   "codemirror_mode": {
    "name": "ipython",
    "version": 3
   },
   "file_extension": ".py",
   "mimetype": "text/x-python",
   "name": "python",
   "nbconvert_exporter": "python",
   "pygments_lexer": "ipython3",
   "version": "3.8.3"
  }
 },
 "nbformat": 4,
 "nbformat_minor": 4
}
